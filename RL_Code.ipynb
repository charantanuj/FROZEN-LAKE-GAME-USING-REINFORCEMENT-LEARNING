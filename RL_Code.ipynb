{
  "cells": [
    {
      "cell_type": "markdown",
      "source": [
        "# **IMPORTING THE DEPENDENCIES**"
      ],
      "metadata": {
        "id": "wAH0RAoxEcmU"
      }
    },
    {
      "cell_type": "code",
      "execution_count": null,
      "metadata": {
        "id": "3QPh9BCEjIaG"
      },
      "outputs": [],
      "source": [
        "import numpy as np\n",
        "import random\n",
        "import matplotlib.pyplot as plt\n",
        "import gym\n",
        "import torch\n",
        "import time"
      ]
    },
    {
      "cell_type": "markdown",
      "source": [
        "# **LOADING THE ENVIRONMENT** "
      ],
      "metadata": {
        "id": "TxfSyA2UESFQ"
      }
    },
    {
      "cell_type": "code",
      "execution_count": null,
      "metadata": {
        "colab": {
          "base_uri": "https://localhost:8080/"
        },
        "id": "5UaApecema0K",
        "outputId": "827268de-24ae-4b08-80b3-f926ea1f8ddb"
      },
      "outputs": [
        {
          "output_type": "stream",
          "name": "stdout",
          "text": [
            "\n",
            "\u001b[41mS\u001b[0mFFF\n",
            "FHFH\n",
            "FFFH\n",
            "HFFG\n"
          ]
        }
      ],
      "source": [
        "environment = gym.make(\"FrozenLake-v0\", is_slippery=False)\n",
        "environment.reset()\n",
        "environment.render()"
      ]
    },
    {
      "cell_type": "markdown",
      "source": [
        "***ACTIONS***"
      ],
      "metadata": {
        "id": "FdzLvSBVI132"
      }
    },
    {
      "cell_type": "markdown",
      "source": [
        "◀️ LEFT = 0\n",
        "🔽 DOWN = 1\n",
        "▶️ RIGHT = 2\n",
        "🔼 UP = 3"
      ],
      "metadata": {
        "id": "fU3yIF9d6AYZ"
      }
    },
    {
      "cell_type": "markdown",
      "source": [
        "**STATE AND ACTION SPACE**"
      ],
      "metadata": {
        "id": "D7a786mE5lrP"
      }
    },
    {
      "cell_type": "code",
      "source": [
        "number_of_states = environment.observation_space.n\n",
        "number_of_actions = environment.action_space.n\n",
        "print(\"State Space:\",number_of_states)\n",
        "print(\"Action Space:\",number_of_actions)"
      ],
      "metadata": {
        "colab": {
          "base_uri": "https://localhost:8080/"
        },
        "id": "bQg1nJaY5fjn",
        "outputId": "f3fd791b-432f-4ca1-f4d8-cf2aa162c4c2"
      },
      "execution_count": null,
      "outputs": [
        {
          "output_type": "stream",
          "name": "stdout",
          "text": [
            "State Space: 16\n",
            "Action Space: 4\n"
          ]
        }
      ]
    },
    {
      "cell_type": "markdown",
      "source": [
        "**DEFINING A FUNCTION FOR THE USER TO PLAY THE GAME**"
      ],
      "metadata": {
        "id": "jFnFUW3eEjUD"
      }
    },
    {
      "cell_type": "code",
      "execution_count": null,
      "metadata": {
        "id": "rkERPwPJyZC-"
      },
      "outputs": [],
      "source": [
        "def human_play(env):\n",
        "    '''\n",
        "    Play games\n",
        "    \n",
        "    Inputs:\n",
        "    env: OpenAI Gym environment\n",
        "            env.P: dictionary\n",
        "                    P[state][action] is list of tuples. Each tuple contains probability, nextstate, reward, terminal\n",
        "                    probability: float\n",
        "                    nextstate: int\n",
        "                    reward: float\n",
        "                    terminal: boolean\n",
        "            env.nS: int\n",
        "                    number of states\n",
        "            env.nA: int\n",
        "                    number of actions\n",
        "    '''\n",
        "    \n",
        "    print('Action indices: LEFT=0, DOWN = 1, RIGHT = 2, UP = 3')\n",
        "    state = env.reset()\n",
        "    env.render()\n",
        "    terminal = False\n",
        "    steps=0\n",
        "    while not terminal:\n",
        "        steps=steps+1\n",
        "        action = int(input('Give the environment your action index:'))\n",
        "        state, reward, terminal, prob = env.step(action)\n",
        "        print(reward)\n",
        "        env.render()\n",
        "    if (reward==1.0):\n",
        "      print(\"YOU REACHED THE GOAL\")\n",
        "      print(\"you solved the game in \",steps,\" steps!!\")\n",
        "    else:\n",
        "      print(\"Oops you lost! better luck next time\")"
      ]
    },
    {
      "cell_type": "markdown",
      "metadata": {
        "id": "1s-GqvuR1vTO"
      },
      "source": [
        "# **PLAY THE GAME!**\n"
      ]
    },
    {
      "cell_type": "code",
      "execution_count": null,
      "metadata": {
        "colab": {
          "base_uri": "https://localhost:8080/"
        },
        "id": "A0GWqIMlyucv",
        "outputId": "0c41bde7-4adf-4a82-bb03-9d7fd87092e9"
      },
      "outputs": [
        {
          "output_type": "stream",
          "name": "stdout",
          "text": [
            "Action indices: LEFT=0, DOWN = 1, RIGHT = 2, UP = 3\n",
            "\n",
            "\u001b[41mS\u001b[0mFFF\n",
            "FHFH\n",
            "FFFH\n",
            "HFFG\n",
            "Give the environment your action index:2\n",
            "0.0\n",
            "  (Right)\n",
            "S\u001b[41mF\u001b[0mFF\n",
            "FHFH\n",
            "FFFH\n",
            "HFFG\n",
            "Give the environment your action index:2\n",
            "0.0\n",
            "  (Right)\n",
            "SF\u001b[41mF\u001b[0mF\n",
            "FHFH\n",
            "FFFH\n",
            "HFFG\n",
            "Give the environment your action index:1\n",
            "0.0\n",
            "  (Down)\n",
            "SFFF\n",
            "FH\u001b[41mF\u001b[0mH\n",
            "FFFH\n",
            "HFFG\n",
            "Give the environment your action index:1\n",
            "0.0\n",
            "  (Down)\n",
            "SFFF\n",
            "FHFH\n",
            "FF\u001b[41mF\u001b[0mH\n",
            "HFFG\n",
            "Give the environment your action index:1\n",
            "0.0\n",
            "  (Down)\n",
            "SFFF\n",
            "FHFH\n",
            "FFFH\n",
            "HF\u001b[41mF\u001b[0mG\n",
            "Give the environment your action index:2\n",
            "1.0\n",
            "  (Right)\n",
            "SFFF\n",
            "FHFH\n",
            "FFFH\n",
            "HFF\u001b[41mG\u001b[0m\n",
            "you reached the goal\n",
            "you solved the game in  6  number of steps\n"
          ]
        }
      ],
      "source": [
        "human_play(environment)"
      ]
    },
    {
      "cell_type": "markdown",
      "source": [
        "# **RANDOM WALK**"
      ],
      "metadata": {
        "id": "Liz3BRqx5aZN"
      }
    },
    {
      "cell_type": "code",
      "execution_count": null,
      "metadata": {
        "id": "PmXpA_gL1sv9"
      },
      "outputs": [],
      "source": [
        "n, max_steps = 10000, 100\n",
        "total_reward = 0\n",
        "num_steps = []\n",
        "for episode in range(n):\n",
        "    observation = environment.reset()\n",
        "    for i in range(max_steps):\n",
        "        observation, reward, done, info = environment.step(environment.action_space.sample())\n",
        "        if done: \n",
        "            total_reward += reward\n",
        "            num_steps.append(i+1)\n",
        "            break\n",
        "environment.close()"
      ]
    },
    {
      "cell_type": "markdown",
      "source": [
        "# ***EVALUATING IT'S PERFORMANCE***"
      ],
      "metadata": {
        "id": "mSZuy__zIjSf"
      }
    },
    {
      "cell_type": "code",
      "source": [
        "print('Success Percentage = {0:.2f} %'.format(100*total_reward/n))\n",
        "print('Average number of steps taken to reach the goal = {0:.2f}'.format(np.mean(num_steps)))"
      ],
      "metadata": {
        "colab": {
          "base_uri": "https://localhost:8080/"
        },
        "id": "VERSTjnJIfy-",
        "outputId": "093136ab-b7d0-41c3-83aa-6a2fb429afd7"
      },
      "execution_count": null,
      "outputs": [
        {
          "output_type": "stream",
          "name": "stdout",
          "text": [
            "Success Percentage = 1.48 %\n",
            "Average number of steps taken to reach the goal = 7.65\n"
          ]
        }
      ]
    },
    {
      "cell_type": "markdown",
      "source": [
        "# **Q-LEARNING**"
      ],
      "metadata": {
        "id": "ns8XUCS67lM0"
      }
    },
    {
      "cell_type": "code",
      "source": [
        "# We re-initialize the Q-table\n",
        "qtable = torch.zeros([environment.observation_space.n, environment.action_space.n])\n",
        "print('Q-table before training:')\n",
        "print(qtable)"
      ],
      "metadata": {
        "colab": {
          "base_uri": "https://localhost:8080/"
        },
        "id": "Bqvr98uv6D4-",
        "outputId": "f97987b8-fc77-496b-b223-09d30a43f5cb"
      },
      "execution_count": null,
      "outputs": [
        {
          "output_type": "stream",
          "name": "stdout",
          "text": [
            "Q-table before training:\n",
            "tensor([[0., 0., 0., 0.],\n",
            "        [0., 0., 0., 0.],\n",
            "        [0., 0., 0., 0.],\n",
            "        [0., 0., 0., 0.],\n",
            "        [0., 0., 0., 0.],\n",
            "        [0., 0., 0., 0.],\n",
            "        [0., 0., 0., 0.],\n",
            "        [0., 0., 0., 0.],\n",
            "        [0., 0., 0., 0.],\n",
            "        [0., 0., 0., 0.],\n",
            "        [0., 0., 0., 0.],\n",
            "        [0., 0., 0., 0.],\n",
            "        [0., 0., 0., 0.],\n",
            "        [0., 0., 0., 0.],\n",
            "        [0., 0., 0., 0.],\n",
            "        [0., 0., 0., 0.]])\n"
          ]
        }
      ]
    },
    {
      "cell_type": "markdown",
      "source": [
        "### **HYPER-PARAMETERS**"
      ],
      "metadata": {
        "id": "cAt5_zZj9oYu"
      }
    },
    {
      "cell_type": "code",
      "source": [
        "total_episodes = 1000\n",
        "gamma = 0.95\n",
        "learning_rate = 0.6   # Alpha\n",
        "egreedy = 0.9     #epsilon\n",
        "egreedy_final = 0.1  #final \n",
        "egreedy_decay = 0.999   #decay rate"
      ],
      "metadata": {
        "id": "OsIPszpF6rvc"
      },
      "execution_count": null,
      "outputs": []
    },
    {
      "cell_type": "markdown",
      "source": [
        "**HYPER-PARAMETER TUNING**"
      ],
      "metadata": {
        "id": "8gpTCMRgG1-6"
      }
    },
    {
      "cell_type": "code",
      "source": [
        "gamma = 0.89\n",
        "learning_rate = 0.99 # Alpha\n",
        "egreedy = 0.7    #epsilon\n",
        "egreedy_final = 0.08  #final epsilon \n",
        "egreedy_decay = 0.41   #decay rate'''"
      ],
      "metadata": {
        "id": "e0YBPHEABQBS"
      },
      "execution_count": null,
      "outputs": []
    },
    {
      "cell_type": "markdown",
      "source": [
        "**ALGORITHM IMPLEMENTATION**"
      ],
      "metadata": {
        "id": "9jpYKUSe_mXQ"
      }
    },
    {
      "cell_type": "code",
      "source": [
        "steps_total = []\n",
        "rewards_total = []\n",
        "egreedy_total = []\n",
        "for i_episode in range(total_episodes):\n",
        "    \n",
        "    # resets the environment\n",
        "    state = environment.reset()\n",
        "    step = 0\n",
        "\n",
        "    while True:\n",
        "        \n",
        "        step += 1\n",
        "        \n",
        "        random_for_egreedy = torch.rand(1)[0]\n",
        "        \n",
        "\n",
        "        if random_for_egreedy > egreedy:      \n",
        "            random_values = qtable[state] + torch.rand(1,number_of_actions) / 1000      \n",
        "            action = torch.max(random_values,1)[1][0]  \n",
        "            action = action.item()\n",
        "        else:\n",
        "            action = environment.action_space.sample()\n",
        "            \n",
        "        if egreedy > egreedy_final:\n",
        "            egreedy *= egreedy_decay\n",
        "        \n",
        "        new_state, reward, done, info = environment.step(action)\n",
        "\n",
        "        # Filling the Q Table\n",
        "        qtable[state, action] = qtable[state, action]*(1-learning_rate) + learning_rate*(reward + gamma * torch.max(qtable[new_state]))\n",
        "        \n",
        "        # Setting new state for next action\n",
        "        state = new_state\n",
        "        \n",
        "        # env.render()\n",
        "        # time.sleep(0.4)\n",
        "        \n",
        "        if done:\n",
        "            steps_total.append(step)\n",
        "            rewards_total.append(reward)\n",
        "            egreedy_total.append(egreedy)\n",
        "            if i_episode % 10 == 0:\n",
        "                print('Episode: {} Reward: {} Steps Taken: {}'.format(i_episode,reward, step))\n",
        "            break\n",
        "        \n"
      ],
      "metadata": {
        "colab": {
          "base_uri": "https://localhost:8080/"
        },
        "id": "dIcQDuW048pm",
        "outputId": "f456798c-dbf8-4967-8ba8-d8a98db48363"
      },
      "execution_count": null,
      "outputs": [
        {
          "output_type": "stream",
          "name": "stdout",
          "text": [
            "Episode: 0 Reward: 1.0 Steps Taken: 6\n",
            "Episode: 10 Reward: 1.0 Steps Taken: 6\n",
            "Episode: 20 Reward: 1.0 Steps Taken: 6\n",
            "Episode: 30 Reward: 1.0 Steps Taken: 6\n",
            "Episode: 40 Reward: 1.0 Steps Taken: 6\n",
            "Episode: 50 Reward: 1.0 Steps Taken: 6\n",
            "Episode: 60 Reward: 1.0 Steps Taken: 7\n",
            "Episode: 70 Reward: 1.0 Steps Taken: 6\n",
            "Episode: 80 Reward: 1.0 Steps Taken: 6\n",
            "Episode: 90 Reward: 1.0 Steps Taken: 6\n",
            "Episode: 100 Reward: 1.0 Steps Taken: 6\n",
            "Episode: 110 Reward: 1.0 Steps Taken: 10\n",
            "Episode: 120 Reward: 1.0 Steps Taken: 6\n",
            "Episode: 130 Reward: 1.0 Steps Taken: 6\n",
            "Episode: 140 Reward: 1.0 Steps Taken: 8\n",
            "Episode: 150 Reward: 1.0 Steps Taken: 6\n",
            "Episode: 160 Reward: 1.0 Steps Taken: 8\n",
            "Episode: 170 Reward: 1.0 Steps Taken: 6\n",
            "Episode: 180 Reward: 1.0 Steps Taken: 7\n",
            "Episode: 190 Reward: 1.0 Steps Taken: 6\n",
            "Episode: 200 Reward: 1.0 Steps Taken: 6\n",
            "Episode: 210 Reward: 1.0 Steps Taken: 8\n",
            "Episode: 220 Reward: 1.0 Steps Taken: 6\n",
            "Episode: 230 Reward: 1.0 Steps Taken: 6\n",
            "Episode: 240 Reward: 1.0 Steps Taken: 6\n",
            "Episode: 250 Reward: 1.0 Steps Taken: 6\n",
            "Episode: 260 Reward: 1.0 Steps Taken: 6\n",
            "Episode: 270 Reward: 1.0 Steps Taken: 6\n",
            "Episode: 280 Reward: 1.0 Steps Taken: 6\n",
            "Episode: 290 Reward: 1.0 Steps Taken: 6\n",
            "Episode: 300 Reward: 1.0 Steps Taken: 6\n",
            "Episode: 310 Reward: 1.0 Steps Taken: 6\n",
            "Episode: 320 Reward: 1.0 Steps Taken: 6\n",
            "Episode: 330 Reward: 1.0 Steps Taken: 6\n",
            "Episode: 340 Reward: 1.0 Steps Taken: 10\n",
            "Episode: 350 Reward: 1.0 Steps Taken: 6\n",
            "Episode: 360 Reward: 1.0 Steps Taken: 6\n",
            "Episode: 370 Reward: 0.0 Steps Taken: 2\n",
            "Episode: 380 Reward: 1.0 Steps Taken: 6\n",
            "Episode: 390 Reward: 1.0 Steps Taken: 8\n",
            "Episode: 400 Reward: 1.0 Steps Taken: 6\n",
            "Episode: 410 Reward: 1.0 Steps Taken: 6\n",
            "Episode: 420 Reward: 1.0 Steps Taken: 8\n",
            "Episode: 430 Reward: 1.0 Steps Taken: 6\n",
            "Episode: 440 Reward: 1.0 Steps Taken: 6\n",
            "Episode: 450 Reward: 1.0 Steps Taken: 6\n",
            "Episode: 460 Reward: 1.0 Steps Taken: 9\n",
            "Episode: 470 Reward: 1.0 Steps Taken: 6\n",
            "Episode: 480 Reward: 1.0 Steps Taken: 6\n",
            "Episode: 490 Reward: 1.0 Steps Taken: 6\n",
            "Episode: 500 Reward: 1.0 Steps Taken: 6\n",
            "Episode: 510 Reward: 1.0 Steps Taken: 10\n",
            "Episode: 520 Reward: 1.0 Steps Taken: 6\n",
            "Episode: 530 Reward: 0.0 Steps Taken: 5\n",
            "Episode: 540 Reward: 1.0 Steps Taken: 6\n",
            "Episode: 550 Reward: 1.0 Steps Taken: 6\n",
            "Episode: 560 Reward: 1.0 Steps Taken: 6\n",
            "Episode: 570 Reward: 1.0 Steps Taken: 6\n",
            "Episode: 580 Reward: 1.0 Steps Taken: 6\n",
            "Episode: 590 Reward: 1.0 Steps Taken: 6\n",
            "Episode: 600 Reward: 1.0 Steps Taken: 6\n",
            "Episode: 610 Reward: 1.0 Steps Taken: 6\n",
            "Episode: 620 Reward: 1.0 Steps Taken: 6\n",
            "Episode: 630 Reward: 0.0 Steps Taken: 5\n",
            "Episode: 640 Reward: 1.0 Steps Taken: 6\n",
            "Episode: 650 Reward: 1.0 Steps Taken: 6\n",
            "Episode: 660 Reward: 1.0 Steps Taken: 6\n",
            "Episode: 670 Reward: 1.0 Steps Taken: 6\n",
            "Episode: 680 Reward: 1.0 Steps Taken: 6\n",
            "Episode: 690 Reward: 1.0 Steps Taken: 6\n",
            "Episode: 700 Reward: 1.0 Steps Taken: 6\n",
            "Episode: 710 Reward: 1.0 Steps Taken: 6\n",
            "Episode: 720 Reward: 1.0 Steps Taken: 6\n",
            "Episode: 730 Reward: 1.0 Steps Taken: 7\n",
            "Episode: 740 Reward: 1.0 Steps Taken: 6\n",
            "Episode: 750 Reward: 1.0 Steps Taken: 6\n",
            "Episode: 760 Reward: 1.0 Steps Taken: 6\n",
            "Episode: 770 Reward: 1.0 Steps Taken: 6\n",
            "Episode: 780 Reward: 1.0 Steps Taken: 6\n",
            "Episode: 790 Reward: 1.0 Steps Taken: 8\n",
            "Episode: 800 Reward: 1.0 Steps Taken: 6\n",
            "Episode: 810 Reward: 1.0 Steps Taken: 6\n",
            "Episode: 820 Reward: 1.0 Steps Taken: 7\n",
            "Episode: 830 Reward: 1.0 Steps Taken: 6\n",
            "Episode: 840 Reward: 1.0 Steps Taken: 6\n",
            "Episode: 850 Reward: 1.0 Steps Taken: 6\n",
            "Episode: 860 Reward: 1.0 Steps Taken: 6\n",
            "Episode: 870 Reward: 1.0 Steps Taken: 6\n",
            "Episode: 880 Reward: 1.0 Steps Taken: 6\n",
            "Episode: 890 Reward: 1.0 Steps Taken: 6\n",
            "Episode: 900 Reward: 1.0 Steps Taken: 6\n",
            "Episode: 910 Reward: 1.0 Steps Taken: 6\n",
            "Episode: 920 Reward: 1.0 Steps Taken: 6\n",
            "Episode: 930 Reward: 1.0 Steps Taken: 6\n",
            "Episode: 940 Reward: 1.0 Steps Taken: 7\n",
            "Episode: 950 Reward: 1.0 Steps Taken: 6\n",
            "Episode: 960 Reward: 1.0 Steps Taken: 8\n",
            "Episode: 970 Reward: 1.0 Steps Taken: 6\n",
            "Episode: 980 Reward: 1.0 Steps Taken: 6\n",
            "Episode: 990 Reward: 1.0 Steps Taken: 6\n"
          ]
        }
      ]
    },
    {
      "cell_type": "markdown",
      "source": [
        "# **Q-TABLE**"
      ],
      "metadata": {
        "id": "PYbl1sQ-9fyk"
      }
    },
    {
      "cell_type": "code",
      "source": [
        "print(qtable)"
      ],
      "metadata": {
        "colab": {
          "base_uri": "https://localhost:8080/"
        },
        "id": "c97hXEKs9KEO",
        "outputId": "3cef5913-e934-42ff-cb2e-3235acb2ab3f"
      },
      "execution_count": null,
      "outputs": [
        {
          "output_type": "stream",
          "name": "stdout",
          "text": [
            "tensor([[0.4970, 0.4423, 0.5584, 0.4970],\n",
            "        [0.4970, 0.0000, 0.6274, 0.5584],\n",
            "        [0.5584, 0.7050, 0.5584, 0.6274],\n",
            "        [0.6274, 0.0000, 0.5584, 0.0000],\n",
            "        [0.4379, 0.0000, 0.0000, 0.4970],\n",
            "        [0.0000, 0.0000, 0.0000, 0.0000],\n",
            "        [0.0000, 0.7921, 0.0000, 0.6274],\n",
            "        [0.0000, 0.0000, 0.0000, 0.0000],\n",
            "        [0.0000, 0.0000, 0.6979, 0.0000],\n",
            "        [0.0000, 0.7921, 0.0000, 0.0000],\n",
            "        [0.7050, 0.8900, 0.0000, 0.7050],\n",
            "        [0.0000, 0.0000, 0.0000, 0.0000],\n",
            "        [0.0000, 0.0000, 0.0000, 0.0000],\n",
            "        [0.0000, 0.7842, 0.8900, 0.6979],\n",
            "        [0.7921, 0.8900, 1.0000, 0.7921],\n",
            "        [0.0000, 0.0000, 0.0000, 0.0000]])\n"
          ]
        }
      ]
    },
    {
      "cell_type": "markdown",
      "source": [
        "## **PERFORMANCE EVALUATION OF Q-LEARNING**"
      ],
      "metadata": {
        "id": "NauvHk0K8uXH"
      }
    },
    {
      "cell_type": "code",
      "source": [
        "print(\"Percent of episodes finished successfully: {0}\".format(sum(rewards_total)/total_episodes))\n",
        "print(\"Percent of episodes finished successfully (last 100 episodes): {0}\".format(sum(rewards_total[-100:])/100))\n",
        "\n",
        "print(\"Average number of steps: %.2f\" % (sum(steps_total)/total_episodes))\n",
        "print(\"Average number of steps (last 100 episodes): %.2f\" % (sum(steps_total[-100:])/100))"
      ],
      "metadata": {
        "colab": {
          "base_uri": "https://localhost:8080/"
        },
        "id": "e6nZ11eD6-W4",
        "outputId": "50f6f127-0f14-4dd5-c090-678cb2564c08"
      },
      "execution_count": null,
      "outputs": [
        {
          "output_type": "stream",
          "name": "stdout",
          "text": [
            "Percent of episodes finished successfully: 0.955\n",
            "Percent of episodes finished successfully (last 100 episodes): 0.98\n",
            "Average number of steps: 6.16\n",
            "Average number of steps (last 100 episodes): 6.20\n"
          ]
        }
      ]
    },
    {
      "cell_type": "markdown",
      "source": [
        "## **RESULTS**"
      ],
      "metadata": {
        "id": "hI4CudsO-lpC"
      }
    },
    {
      "cell_type": "code",
      "source": [
        "plt.figure(figsize=(7,3))\n",
        "plt.title(\"Rewards\",size=14)\n",
        "plt.bar(torch.arange(len(rewards_total)), rewards_total, alpha=0.6, color='green', width=5)\n",
        "plt.show()"
      ],
      "metadata": {
        "colab": {
          "base_uri": "https://localhost:8080/",
          "height": 228
        },
        "id": "efMHhCWObwS3",
        "outputId": "7762ea8b-5706-47cc-d6f7-2871ac87c458"
      },
      "execution_count": null,
      "outputs": [
        {
          "output_type": "display_data",
          "data": {
            "text/plain": [
              "<Figure size 504x216 with 1 Axes>"
            ],
            "image/png": "[encoded data removed]"
          },
          "metadata": {
            "needs_background": "light"
          }
        }
      ]
    },
    {
      "cell_type": "code",
      "source": [
        "plt.figure(figsize=(12,5))\n",
        "plt.title(\"Steps / Episode length\",size=14)\n",
        "plt.bar(torch.arange(len(steps_total)), steps_total, alpha=0.6, color='red', width=5)\n",
        "plt.show()"
      ],
      "metadata": {
        "colab": {
          "base_uri": "https://localhost:8080/",
          "height": 337
        },
        "id": "PcK9Bh-59RjK",
        "outputId": "f60a986e-a7aa-477e-b4f0-ff1225991f0f"
      },
      "execution_count": null,
      "outputs": [
        {
          "output_type": "display_data",
          "data": {
            "text/plain": [
              "<Figure size 864x360 with 1 Axes>"
            ],
            "image/png": "[encoded data removed]"
          },
          "metadata": {
            "needs_background": "light"
          }
        }
      ]
    },
    {
      "cell_type": "code",
      "source": [
        "plt.figure(figsize=(7,3))\n",
        "plt.title(\"Egreedy value\",size=14)\n",
        "plt.bar(torch.arange(len(egreedy_total)), egreedy_total, alpha=0.6, color='blue', width=5)\n",
        "plt.show()"
      ],
      "metadata": {
        "colab": {
          "base_uri": "https://localhost:8080/",
          "height": 713
        },
        "id": "edIX9NRe9bXF",
        "outputId": "50518822-ed0d-4169-e6d7-d1d634a0eec8"
      },
      "execution_count": null,
      "outputs": [
        {
          "output_type": "display_data",
          "data": {
            "text/plain": [
              "<Figure size 2100x900 with 1 Axes>"
            ],
            "image/png": "[encoded data removed]"
          },
          "metadata": {
            "needs_background": "light"
          }
        }
      ]
    },
    {
      "cell_type": "markdown",
      "source": [
        "# **VISUALIZING THE AGENT PLAYING**"
      ],
      "metadata": {
        "id": "h3uCo2sGFvUn"
      }
    },
    {
      "cell_type": "code",
      "source": [
        "from IPython.display import clear_output\n",
        "import time \n",
        "\n",
        "state = environment.reset()\n",
        "done = False\n",
        "sequence = []\n",
        "\n",
        "while not done:\n",
        "    # Choose the action with the highest value in the current state\n",
        "    if np.max(qtable[state]) > 0:\n",
        "      action = np.argmax(qtable[state])\n",
        "\n",
        "    # If there's no best action (only zeros), take a random one\n",
        "    else:\n",
        "      action = environment.action_space.sample()\n",
        "    \n",
        "    # Add the action to the sequence\n",
        "    sequence.append(action)\n",
        "\n",
        "    # Implement this action and move the agent in the desired direction\n",
        "    new_state, reward, done, info = environment.step(action)\n",
        "\n",
        "    # Update our current state\n",
        "    state = new_state\n",
        "\n",
        "    # Update the render\n",
        "    clear_output(wait=True)\n",
        "    environment.render()\n",
        "    time.sleep(1)\n",
        "\n",
        "print(f\"Sequence = {sequence}\")"
      ],
      "metadata": {
        "colab": {
          "base_uri": "https://localhost:8080/"
        },
        "id": "nKSOj9Sp9BX2",
        "outputId": "5f1ca706-dfd9-4a5e-f139-2f2ef418d47c"
      },
      "execution_count": null,
      "outputs": [
        {
          "output_type": "stream",
          "name": "stdout",
          "text": [
            "  (Right)\n",
            "SFFF\n",
            "FHFH\n",
            "FFFH\n",
            "HFF\u001b[41mG\u001b[0m\n",
            "Sequence = [1, 1, 2, 1, 2, 2]\n"
          ]
        }
      ]
    }
  ],
  "metadata": {
    "colab": {
      "name": "RL_PROJECT_PRESENTATION.ipynb",
      "provenance": [],
      "collapsed_sections": []
    },
    "kernelspec": {
      "display_name": "Python 3",
      "name": "python3"
    },
    "language_info": {
      "name": "python"
    }
  },
  "nbformat": 4,
  "nbformat_minor": 0
}